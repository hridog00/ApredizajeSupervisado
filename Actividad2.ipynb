{
  "nbformat": 4,
  "nbformat_minor": 0,
  "metadata": {
    "kernelspec": {
      "display_name": "Python 3",
      "language": "python",
      "name": "python3"
    },
    "language_info": {
      "codemirror_mode": {
        "name": "ipython",
        "version": 3
      },
      "file_extension": ".py",
      "mimetype": "text/x-python",
      "name": "python",
      "nbconvert_exporter": "python",
      "pygments_lexer": "ipython3",
      "version": "3.6.9"
    },
    "colab": {
      "name": "Actividad2.ipynb",
      "provenance": [],
      "include_colab_link": true
    }
  },
  "cells": [
    {
      "cell_type": "markdown",
      "metadata": {
        "id": "view-in-github",
        "colab_type": "text"
      },
      "source": [
        "<a href=\"https://colab.research.google.com/github/hridog00/ApredizajeSupervisado/blob/master/Actividad2.ipynb\" target=\"_parent\"><img src=\"https://colab.research.google.com/assets/colab-badge.svg\" alt=\"Open In Colab\"/></a>"
      ]
    },
    {
      "cell_type": "markdown",
      "metadata": {
        "id": "6Me8vPIisWom",
        "colab_type": "text"
      },
      "source": [
        "# Actividad 2: Validación y evaluación en regresión y clasificación"
      ]
    },
    {
      "cell_type": "markdown",
      "metadata": {
        "id": "pl-CiNuUsWoo",
        "colab_type": "text"
      },
      "source": [
        "Esta segunda actividad consiste en demostrar los conocimientos sobre validación y evaluación de algoritmos en aprendizaje supervisado, haciendo uso de los conceptos aprendidos en la asignatura."
      ]
    },
    {
      "cell_type": "markdown",
      "metadata": {
        "id": "hUwphDRqsWop",
        "colab_type": "text"
      },
      "source": [
        "Información general:\n",
        "* La entrega consistirá en un archivo .ipynb siguiendo las instrucciones de este notebook.\n",
        "* 60% de la nota final."
      ]
    },
    {
      "cell_type": "markdown",
      "metadata": {
        "id": "d0YeQTmWsWoq",
        "colab_type": "text"
      },
      "source": [
        "Instrucciones para cumplimentar el notebook:\n",
        "* Descarga este notebook, que servirá como base para la entrega.\n",
        "* **No hay que modificar las celdas** que vienen en la hoja de actividades, **a no ser que se especifique claramente en la celda**. Para contestar a las preguntas, por favor añade celdas inmediatamente después de cada pregunta.\n",
        "* Para la nota se valorará tanto la consecución de la respuesta adecuada como el estilo y adecuación del código fuente (si procede responder con código), así como la inclusión de comentarios apropiados.\n",
        "* **No está permitido compartir los resultados de una actividad** en el foro o con cualquier compañero, **salvo indicación expresa en el enunciado de la actividad**. Hacerlo puede suponer suspender la asignatura y enfrentarse a medidas disciplinarias."
      ]
    },
    {
      "cell_type": "markdown",
      "metadata": {
        "id": "oE82U88YsWor",
        "colab_type": "text"
      },
      "source": [
        "Información útil:\n",
        "* Para crear celdas en el notebook, usa el botón \"+\" del menú situado en la esquina superior izquierda.\n",
        "* Para ejecutar una celda (texto o código), pulsa el botón \"Run\" del menú situado en la esquina superior izquierda.\n",
        "* Recuerda cambiar el tipo de celda de forma adecuada con el menú superior.\n",
        "* Más información sobre notebooks en la documentación oficial: https://jupyter.readthedocs.io/en/latest/"
      ]
    },
    {
      "cell_type": "markdown",
      "metadata": {
        "id": "EQK7pULqsWos",
        "colab_type": "text"
      },
      "source": [
        "### Ejercicio 1 (1.5 puntos)"
      ]
    },
    {
      "cell_type": "markdown",
      "metadata": {
        "id": "h2oR-NITsWot",
        "colab_type": "text"
      },
      "source": [
        "Cree un programa que permita visualizar una gráfica en la que se muestren los valores de error MAE del regresor DummyRegressor en función del porcentaje de split training/test en validación Hold-out (pruebe desde un 50%-50% hasta un 95%-5%, de 5% en 5%) para un dataset de regresión (el que se desee)."
      ]
    },
    {
      "cell_type": "code",
      "metadata": {
        "id": "ThRENoylsWou",
        "colab_type": "code",
        "outputId": "0a812cb8-c3bb-461c-f96b-e022111b022f",
        "colab": {
          "base_uri": "https://localhost:8080/",
          "height": 520
        }
      },
      "source": [
        "from sklearn.model_selection import train_test_split\n",
        "from sklearn import datasets\n",
        "from sklearn.dummy import DummyRegressor\n",
        "from sklearn.metrics import mean_absolute_error\n",
        "import matplotlib.pyplot as plt\n",
        "\n",
        "# Cargamos el dataset\n",
        "df = datasets.load_boston()\n",
        "\n",
        "# Algoritmo de aprendizaje\n",
        "reg = DummyRegressor()\n",
        "\n",
        "errores_MAE = []\n",
        "test_size_values = []\n",
        "test_size = 0.5\n",
        "while test_size > 0:\n",
        "    #division entre conjunto de entrenamiento y test\n",
        "    X_train, X_test, y_train, y_test = train_test_split(df.data, df.target, test_size=test_size, random_state=0)\n",
        "    #entrnemos el modelo\n",
        "    reg.fit(X_train, y_train)\n",
        "    #realizamos la predicción\n",
        "    y_pred = reg.predict(X_test)\n",
        "    #obtenemos el error\n",
        "    error = mean_absolute_error(y_pred, y_test)\n",
        "\n",
        "    print(\"Prueba con \",1-test_size,\"-\",test_size,\" Error:\", error)\n",
        "\n",
        "    #guardaos el error y modificamos el porcentaje de división entre conjuntos de train y test\n",
        "    errores_MAE.append(error)\n",
        "    test_size_values.append(str(test_size))\n",
        "    test_size -= 0.05\n",
        "    test_size = round(test_size, 2)\n",
        "    \n",
        "#representamos los valores obtenidos\n",
        "plt.figure(figsize=(15,5))\n",
        "plt.plot(test_size_values, errores_MAE)\n",
        "plt.xlabel(\"Test size\")\n",
        "plt.ylabel(\"MAE values\")\n",
        "plt.title(\"MAE values over different test size\")\n",
        "plt.show()"
      ],
      "execution_count": 0,
      "outputs": [
        {
          "output_type": "stream",
          "text": [
            "Prueba con  0.5 - 0.5  Error: 6.477785936352701\n",
            "Prueba con  0.55 - 0.45  Error: 6.550189322226429\n",
            "Prueba con  0.6 - 0.4  Error: 6.619216699995124\n",
            "Prueba con  0.65 - 0.35  Error: 6.569361468895589\n",
            "Prueba con  0.7 - 0.3  Error: 6.6181274159976216\n",
            "Prueba con  0.75 - 0.25  Error: 6.262755282238796\n",
            "Prueba con  0.8 - 0.2  Error: 6.250087361677344\n",
            "Prueba con  0.85 - 0.15  Error: 6.197074663402691\n",
            "Prueba con  0.9 - 0.1  Error: 6.596681749622927\n",
            "Prueba con  0.95 - 0.05  Error: 6.607275641025642\n"
          ],
          "name": "stdout"
        },
        {
          "output_type": "display_data",
          "data": {
            "image/png": "[encoded data removed]",
            "text/plain": [
              "<Figure size 1080x360 with 1 Axes>"
            ]
          },
          "metadata": {
            "tags": []
          }
        }
      ]
    },
    {
      "cell_type": "markdown",
      "metadata": {
        "id": "9P6yNjaZsWoy",
        "colab_type": "text"
      },
      "source": [
        "### Ejercicio 2 (1.5 puntos)"
      ]
    },
    {
      "cell_type": "markdown",
      "metadata": {
        "id": "OQ-3z4c6sWoz",
        "colab_type": "text"
      },
      "source": [
        "Realizar el mismo procedimiento que el descrito en el Ejercicio 1, pero para clasificación con el clasificador DummyClassifier (visualizar gráfica de valores de exactitud, en lugar de MAE)."
      ]
    },
    {
      "cell_type": "code",
      "metadata": {
        "id": "ZwfeHQvGsWo0",
        "colab_type": "code",
        "outputId": "8e124dae-e67c-4d5e-ba9d-a547cbb81aec",
        "colab": {
          "base_uri": "https://localhost:8080/",
          "height": 554
        }
      },
      "source": [
        "from sklearn.model_selection import train_test_split\n",
        "from sklearn import datasets\n",
        "from sklearn.dummy import DummyClassifier\n",
        "from sklearn.metrics import accuracy_score\n",
        "import matplotlib.pyplot as plt\n",
        "\n",
        "# Cargamos el dataset\n",
        "df = datasets.load_wine()\n",
        "\n",
        "# Algoritmo de aprendizaje\n",
        "clf = DummyClassifier()\n",
        "\n",
        "errores_accuracy = []\n",
        "test_size_values = []\n",
        "test_size = 0.5\n",
        "while test_size > 0:\n",
        "    #division entre conjunto de entrenamiento y test\n",
        "    X_train, X_test, y_train, y_test = train_test_split(df.data, df.target, test_size=test_size, random_state=0)\n",
        "    #entrnemos el modelo\n",
        "    clf.fit(X_train, y_train)\n",
        "    #realizamos la predicción\n",
        "    y_pred = clf.predict(X_test)\n",
        "    #obtenemos el error\n",
        "    error = accuracy_score(y_pred, y_test)\n",
        "\n",
        "    print(\"Prueba con \",1-test_size,\"-\",test_size,\" Error:\", error)\n",
        "\n",
        "    #guardaos el error y modificamos el porcentaje de división entre conjuntos de train y test\n",
        "    errores_accuracy.append(error)\n",
        "    test_size_values.append(str(test_size))\n",
        "    test_size -= 0.05\n",
        "    test_size = round(test_size, 2)\n",
        "    \n",
        "#representamos los valores obtenidos\n",
        "plt.figure(figsize=(15,5))\n",
        "plt.plot(test_size_values, errores_accuracy)\n",
        "plt.xlabel(\"Test size\")\n",
        "plt.ylabel(\"Accuracy values\")\n",
        "plt.title(\"Accuracy values over different test size\")\n",
        "plt.show()"
      ],
      "execution_count": 0,
      "outputs": [
        {
          "output_type": "stream",
          "text": [
            "/usr/local/lib/python3.6/dist-packages/sklearn/dummy.py:132: FutureWarning: The default value of strategy will change from stratified to prior in 0.24.\n",
            "  \"stratified to prior in 0.24.\", FutureWarning)\n"
          ],
          "name": "stderr"
        },
        {
          "output_type": "stream",
          "text": [
            "Prueba con  0.5 - 0.5  Error: 0.3146067415730337\n",
            "Prueba con  0.55 - 0.45  Error: 0.2839506172839506\n",
            "Prueba con  0.6 - 0.4  Error: 0.3055555555555556\n",
            "Prueba con  0.65 - 0.35  Error: 0.36507936507936506\n",
            "Prueba con  0.7 - 0.3  Error: 0.37037037037037035\n",
            "Prueba con  0.75 - 0.25  Error: 0.17777777777777778\n",
            "Prueba con  0.8 - 0.2  Error: 0.3333333333333333\n",
            "Prueba con  0.85 - 0.15  Error: 0.25925925925925924\n",
            "Prueba con  0.9 - 0.1  Error: 0.3888888888888889\n",
            "Prueba con  0.95 - 0.05  Error: 0.4444444444444444\n"
          ],
          "name": "stdout"
        },
        {
          "output_type": "display_data",
          "data": {
            "image/png": "[encoded data removed]",
            "text/plain": [
              "<Figure size 1080x360 with 1 Axes>"
            ]
          },
          "metadata": {
            "tags": []
          }
        }
      ]
    },
    {
      "cell_type": "markdown",
      "metadata": {
        "id": "Ck6c1coasWo2",
        "colab_type": "text"
      },
      "source": [
        "### Ejercicio 3 (2 puntos)"
      ]
    },
    {
      "cell_type": "markdown",
      "metadata": {
        "id": "6y_NvcQWsWo3",
        "colab_type": "text"
      },
      "source": [
        "Cree un programa, con comentarios que aclaren el código, donde se computen las métricas MAE, RMSE y MAPE usando los regresores OLS y KNN en validación cruzada con 10 bolsas. Muestre los resultados de forma comparativa para al menos tres datasets (los que se deseen)."
      ]
    },
    {
      "cell_type": "code",
      "metadata": {
        "id": "vHfcvzUfsWo4",
        "colab_type": "code",
        "colab": {
          "base_uri": "https://localhost:8080/",
          "height": 256
        },
        "outputId": "0ba3756c-4747-4ae2-e344-a13a55286a35"
      },
      "source": [
        "import numpy as np\n",
        "from math import sqrt\n",
        "from pprint import pprint\n",
        "from sklearn import datasets\n",
        "from sklearn.dummy import DummyRegressor\n",
        "from sklearn.model_selection import cross_validate\n",
        "from sklearn.model_selection import KFold\n",
        "from sklearn.metrics import make_scorer\n",
        "from sklearn.metrics import mean_squared_error\n",
        "# Carga de datos.\n",
        "datos = datasets.load_boston()\n",
        "datasets = []\n",
        "# Algoritmo de aprendizaje.\n",
        "reg = DummyRegressor()\n",
        "modelos = []\n",
        "\n",
        "# Métricas de evaluación.\n",
        "metricas = {\n",
        "    'MAE': 'neg_mean_absolute_error',\n",
        "    'RMSE': make_scorer(\n",
        "                lambda y, y_pred: sqrt(mean_squared_error(y, y_pred)),\n",
        "                greater_is_better=False),\n",
        "    'MAPE': make_scorer(\n",
        "                lambda y, y_pred: np.mean(np.abs((y - y_pred) / y)) * 100,\n",
        "                greater_is_better=False)\n",
        "}\n",
        "# Vector de resultados\n",
        "resultados = []\n",
        "\n",
        "# Validación y evaluación del modelo.\n",
        "evaluacion = cross_validate(reg, datos.data, datos.target, \n",
        "                            cv = KFold(n_splits=10), scoring = metricas)\n",
        "# Presentación de los resultados de la evaluación.\n",
        "pprint(evaluacion)"
      ],
      "execution_count": 2,
      "outputs": [
        {
          "output_type": "stream",
          "text": [
            "{'fit_time': array([0.00036335, 0.00020838, 0.00043631, 0.00017428, 0.00026369,\n",
            "       0.00019431, 0.00018764, 0.00027251, 0.00024915, 0.00023007]),\n",
            " 'score_time': array([0.00160551, 0.0004878 , 0.00062084, 0.00040174, 0.00043106,\n",
            "       0.00056791, 0.00040793, 0.00062084, 0.0005877 , 0.00040603]),\n",
            " 'test_MAE': array([ -5.3515794 ,  -3.53014437,  -4.94711485, -10.76168067,\n",
            "        -6.44039647, -10.047688  ,  -3.17389474, -11.29252632,\n",
            "       -10.23408772,  -4.63788596]),\n",
            " 'test_MAPE': array([-29.25050459, -12.906196  , -30.39854529, -30.34584199,\n",
            "       -18.56158501, -27.26756887, -14.90917649, -98.89347189,\n",
            "       -90.94044655, -33.26160748]),\n",
            " 'test_RMSE': array([ -6.32943878,  -5.54863948,  -5.6114705 , -13.84505712,\n",
            "       -10.19621426, -13.13853419,  -4.07150292, -13.4561593 ,\n",
            "       -10.80909628,  -5.99400813])}\n"
          ],
          "name": "stdout"
        }
      ]
    },
    {
      "cell_type": "markdown",
      "metadata": {
        "id": "YO2WjsR0sWo7",
        "colab_type": "text"
      },
      "source": [
        "### Ejercicio 4 (3 puntos)"
      ]
    },
    {
      "cell_type": "markdown",
      "metadata": {
        "id": "7QmAR4eHsWo8",
        "colab_type": "text"
      },
      "source": [
        "Analice las diferencias entre los errores producidos por el algoritmo KNN en función de estos aspectos: a) número de vecinos más cercanos; b) función de distancia; c) con/sin normalización previa de atributos. Para ello, pruebe al menos dos configuraciones distintas de cada aspecto. Use tres datasets diferentes en validación leave-one-out en la comparativa de resultados."
      ]
    },
    {
      "cell_type": "code",
      "metadata": {
        "id": "TS-d8SRzsWo9",
        "colab_type": "code",
        "colab": {}
      },
      "source": [
        ""
      ],
      "execution_count": 0,
      "outputs": []
    },
    {
      "cell_type": "markdown",
      "metadata": {
        "id": "urRwuY6isWo_",
        "colab_type": "text"
      },
      "source": [
        "### Ejercicio 5 (2 puntos)"
      ]
    },
    {
      "cell_type": "markdown",
      "metadata": {
        "id": "pJj6caq6sWpA",
        "colab_type": "text"
      },
      "source": [
        "Estudie la métrica para clasificación denominada AUC de scikit-learn y cree un programa, con comentarios que aclaren el código, donde se compute diche métrica (junto con exactitud, precisión, recall y F1) usando los clasificadores LOGR y CART en validación cruzada leave-one-out. Muestre los resultados de forma comparativa para al menos tres datasets (los que se deseen)."
      ]
    },
    {
      "cell_type": "code",
      "metadata": {
        "id": "Slz7vY-bsWpB",
        "colab_type": "code",
        "colab": {}
      },
      "source": [
        ""
      ],
      "execution_count": 0,
      "outputs": []
    }
  ]
}