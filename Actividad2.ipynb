{
  "nbformat": 4,
  "nbformat_minor": 0,
  "metadata": {
    "kernelspec": {
      "display_name": "Python 3",
      "language": "python",
      "name": "python3"
    },
    "language_info": {
      "codemirror_mode": {
        "name": "ipython",
        "version": 3
      },
      "file_extension": ".py",
      "mimetype": "text/x-python",
      "name": "python",
      "nbconvert_exporter": "python",
      "pygments_lexer": "ipython3",
      "version": "3.6.9"
    },
    "colab": {
      "name": "Actividad2.ipynb",
      "provenance": [],
      "include_colab_link": true
    }
  },
  "cells": [
    {
      "cell_type": "markdown",
      "metadata": {
        "id": "view-in-github",
        "colab_type": "text"
      },
      "source": [
        "<a href=\"https://colab.research.google.com/github/hridog00/ApredizajeSupervisado/blob/master/Actividad2.ipynb\" target=\"_parent\"><img src=\"https://colab.research.google.com/assets/colab-badge.svg\" alt=\"Open In Colab\"/></a>"
      ]
    },
    {
      "cell_type": "markdown",
      "metadata": {
        "id": "6Me8vPIisWom",
        "colab_type": "text"
      },
      "source": [
        "# Actividad 2: Validación y evaluación en regresión y clasificación"
      ]
    },
    {
      "cell_type": "markdown",
      "metadata": {
        "id": "pl-CiNuUsWoo",
        "colab_type": "text"
      },
      "source": [
        "Esta segunda actividad consiste en demostrar los conocimientos sobre validación y evaluación de algoritmos en aprendizaje supervisado, haciendo uso de los conceptos aprendidos en la asignatura."
      ]
    },
    {
      "cell_type": "markdown",
      "metadata": {
        "id": "hUwphDRqsWop",
        "colab_type": "text"
      },
      "source": [
        "Información general:\n",
        "* La entrega consistirá en un archivo .ipynb siguiendo las instrucciones de este notebook.\n",
        "* 60% de la nota final."
      ]
    },
    {
      "cell_type": "markdown",
      "metadata": {
        "id": "d0YeQTmWsWoq",
        "colab_type": "text"
      },
      "source": [
        "Instrucciones para cumplimentar el notebook:\n",
        "* Descarga este notebook, que servirá como base para la entrega.\n",
        "* **No hay que modificar las celdas** que vienen en la hoja de actividades, **a no ser que se especifique claramente en la celda**. Para contestar a las preguntas, por favor añade celdas inmediatamente después de cada pregunta.\n",
        "* Para la nota se valorará tanto la consecución de la respuesta adecuada como el estilo y adecuación del código fuente (si procede responder con código), así como la inclusión de comentarios apropiados.\n",
        "* **No está permitido compartir los resultados de una actividad** en el foro o con cualquier compañero, **salvo indicación expresa en el enunciado de la actividad**. Hacerlo puede suponer suspender la asignatura y enfrentarse a medidas disciplinarias."
      ]
    },
    {
      "cell_type": "markdown",
      "metadata": {
        "id": "oE82U88YsWor",
        "colab_type": "text"
      },
      "source": [
        "Información útil:\n",
        "* Para crear celdas en el notebook, usa el botón \"+\" del menú situado en la esquina superior izquierda.\n",
        "* Para ejecutar una celda (texto o código), pulsa el botón \"Run\" del menú situado en la esquina superior izquierda.\n",
        "* Recuerda cambiar el tipo de celda de forma adecuada con el menú superior.\n",
        "* Más información sobre notebooks en la documentación oficial: https://jupyter.readthedocs.io/en/latest/"
      ]
    },
    {
      "cell_type": "markdown",
      "metadata": {
        "id": "EQK7pULqsWos",
        "colab_type": "text"
      },
      "source": [
        "### Ejercicio 1 (1.5 puntos)"
      ]
    },
    {
      "cell_type": "markdown",
      "metadata": {
        "id": "h2oR-NITsWot",
        "colab_type": "text"
      },
      "source": [
        "Cree un programa que permita visualizar una gráfica en la que se muestren los valores de error MAE del regresor DummyRegressor en función del porcentaje de split training/test en validación Hold-out (pruebe desde un 50%-50% hasta un 95%-5%, de 5% en 5%) para un dataset de regresión (el que se desee)."
      ]
    },
    {
      "cell_type": "code",
      "metadata": {
        "id": "ThRENoylsWou",
        "colab_type": "code",
        "outputId": "0a812cb8-c3bb-461c-f96b-e022111b022f",
        "colab": {
          "base_uri": "https://localhost:8080/",
          "height": 520
        }
      },
      "source": [
        "from sklearn.model_selection import train_test_split\n",
        "from sklearn import datasets\n",
        "from sklearn.dummy import DummyRegressor\n",
        "from sklearn.metrics import mean_absolute_error\n",
        "import matplotlib.pyplot as plt\n",
        "\n",
        "# Cargamos el dataset\n",
        "df = datasets.load_boston()\n",
        "\n",
        "# Algoritmo de aprendizaje\n",
        "reg = DummyRegressor()\n",
        "\n",
        "errores_MAE = []\n",
        "test_size_values = []\n",
        "test_size = 0.5\n",
        "while test_size > 0:\n",
        "    #division entre conjunto de entrenamiento y test\n",
        "    X_train, X_test, y_train, y_test = train_test_split(df.data, df.target, test_size=test_size, random_state=0)\n",
        "    #entrnemos el modelo\n",
        "    reg.fit(X_train, y_train)\n",
        "    #realizamos la predicción\n",
        "    y_pred = reg.predict(X_test)\n",
        "    #obtenemos el error\n",
        "    error = mean_absolute_error(y_pred, y_test)\n",
        "\n",
        "    print(\"Prueba con \",1-test_size,\"-\",test_size,\" Error:\", error)\n",
        "\n",
        "    #guardaos el error y modificamos el porcentaje de división entre conjuntos de train y test\n",
        "    errores_MAE.append(error)\n",
        "    test_size_values.append(str(test_size))\n",
        "    test_size -= 0.05\n",
        "    test_size = round(test_size, 2)\n",
        "    \n",
        "#representamos los valores obtenidos\n",
        "plt.figure(figsize=(15,5))\n",
        "plt.plot(test_size_values, errores_MAE)\n",
        "plt.xlabel(\"Test size\")\n",
        "plt.ylabel(\"MAE values\")\n",
        "plt.title(\"MAE values over different test size\")\n",
        "plt.show()"
      ],
      "execution_count": 0,
      "outputs": [
        {
          "output_type": "stream",
          "text": [
            "Prueba con  0.5 - 0.5  Error: 6.477785936352701\n",
            "Prueba con  0.55 - 0.45  Error: 6.550189322226429\n",
            "Prueba con  0.6 - 0.4  Error: 6.619216699995124\n",
            "Prueba con  0.65 - 0.35  Error: 6.569361468895589\n",
            "Prueba con  0.7 - 0.3  Error: 6.6181274159976216\n",
            "Prueba con  0.75 - 0.25  Error: 6.262755282238796\n",
            "Prueba con  0.8 - 0.2  Error: 6.250087361677344\n",
            "Prueba con  0.85 - 0.15  Error: 6.197074663402691\n",
            "Prueba con  0.9 - 0.1  Error: 6.596681749622927\n",
            "Prueba con  0.95 - 0.05  Error: 6.607275641025642\n"
          ],
          "name": "stdout"
        },
        {
          "output_type": "display_data",
          "data": {
            "image/png": "[encoded data removed]",
            "text/plain": [
              "<Figure size 1080x360 with 1 Axes>"
            ]
          },
          "metadata": {
            "tags": []
          }
        }
      ]
    },
    {
      "cell_type": "markdown",
      "metadata": {
        "id": "9P6yNjaZsWoy",
        "colab_type": "text"
      },
      "source": [
        "### Ejercicio 2 (1.5 puntos)"
      ]
    },
    {
      "cell_type": "markdown",
      "metadata": {
        "id": "OQ-3z4c6sWoz",
        "colab_type": "text"
      },
      "source": [
        "Realizar el mismo procedimiento que el descrito en el Ejercicio 1, pero para clasificación con el clasificador DummyClassifier (visualizar gráfica de valores de exactitud, en lugar de MAE)."
      ]
    },
    {
      "cell_type": "code",
      "metadata": {
        "id": "ZwfeHQvGsWo0",
        "colab_type": "code",
        "outputId": "8e124dae-e67c-4d5e-ba9d-a547cbb81aec",
        "colab": {
          "base_uri": "https://localhost:8080/",
          "height": 554
        }
      },
      "source": [
        "from sklearn.model_selection import train_test_split\n",
        "from sklearn import datasets\n",
        "from sklearn.dummy import DummyClassifier\n",
        "from sklearn.metrics import accuracy_score\n",
        "import matplotlib.pyplot as plt\n",
        "\n",
        "# Cargamos el dataset\n",
        "df = datasets.load_wine()\n",
        "\n",
        "# Algoritmo de aprendizaje\n",
        "clf = DummyClassifier()\n",
        "\n",
        "errores_accuracy = []\n",
        "test_size_values = []\n",
        "test_size = 0.5\n",
        "while test_size > 0:\n",
        "    #division entre conjunto de entrenamiento y test\n",
        "    X_train, X_test, y_train, y_test = train_test_split(df.data, df.target, test_size=test_size, random_state=0)\n",
        "    #entrnemos el modelo\n",
        "    clf.fit(X_train, y_train)\n",
        "    #realizamos la predicción\n",
        "    y_pred = clf.predict(X_test)\n",
        "    #obtenemos el error\n",
        "    error = accuracy_score(y_pred, y_test)\n",
        "\n",
        "    print(\"Prueba con \",1-test_size,\"-\",test_size,\" Error:\", error)\n",
        "\n",
        "    #guardaos el error y modificamos el porcentaje de división entre conjuntos de train y test\n",
        "    errores_accuracy.append(error)\n",
        "    test_size_values.append(str(test_size))\n",
        "    test_size -= 0.05\n",
        "    test_size = round(test_size, 2)\n",
        "    \n",
        "#representamos los valores obtenidos\n",
        "plt.figure(figsize=(15,5))\n",
        "plt.plot(test_size_values, errores_accuracy)\n",
        "plt.xlabel(\"Test size\")\n",
        "plt.ylabel(\"Accuracy values\")\n",
        "plt.title(\"Accuracy values over different test size\")\n",
        "plt.show()"
      ],
      "execution_count": 0,
      "outputs": [
        {
          "output_type": "stream",
          "text": [
            "/usr/local/lib/python3.6/dist-packages/sklearn/dummy.py:132: FutureWarning: The default value of strategy will change from stratified to prior in 0.24.\n",
            "  \"stratified to prior in 0.24.\", FutureWarning)\n"
          ],
          "name": "stderr"
        },
        {
          "output_type": "stream",
          "text": [
            "Prueba con  0.5 - 0.5  Error: 0.3146067415730337\n",
            "Prueba con  0.55 - 0.45  Error: 0.2839506172839506\n",
            "Prueba con  0.6 - 0.4  Error: 0.3055555555555556\n",
            "Prueba con  0.65 - 0.35  Error: 0.36507936507936506\n",
            "Prueba con  0.7 - 0.3  Error: 0.37037037037037035\n",
            "Prueba con  0.75 - 0.25  Error: 0.17777777777777778\n",
            "Prueba con  0.8 - 0.2  Error: 0.3333333333333333\n",
            "Prueba con  0.85 - 0.15  Error: 0.25925925925925924\n",
            "Prueba con  0.9 - 0.1  Error: 0.3888888888888889\n",
            "Prueba con  0.95 - 0.05  Error: 0.4444444444444444\n"
          ],
          "name": "stdout"
        },
        {
          "output_type": "display_data",
          "data": {
            "image/png": "[encoded data removed]",
            "text/plain": [
              "<Figure size 1080x360 with 1 Axes>"
            ]
          },
          "metadata": {
            "tags": []
          }
        }
      ]
    },
    {
      "cell_type": "markdown",
      "metadata": {
        "id": "Ck6c1coasWo2",
        "colab_type": "text"
      },
      "source": [
        "### Ejercicio 3 (2 puntos)"
      ]
    },
    {
      "cell_type": "markdown",
      "metadata": {
        "id": "6y_NvcQWsWo3",
        "colab_type": "text"
      },
      "source": [
        "Cree un programa, con comentarios que aclaren el código, donde se computen las métricas MAE, RMSE y MAPE usando los regresores OLS y KNN en validación cruzada con 10 bolsas. Muestre los resultados de forma comparativa para al menos tres datasets (los que se deseen)."
      ]
    },
    {
      "cell_type": "code",
      "metadata": {
        "id": "b-qm8bYI6z0P",
        "colab_type": "code",
        "colab": {}
      },
      "source": [
        "import pandas as pd\n",
        "def load_cars():\n",
        "    column_names = ['MPG','Cylinders','Displacement','Horsepower','Weight',\n",
        "                    'Acceleration', 'Model Year', 'Origin']\n",
        "\n",
        "    data = pd.read_csv('http://archive.ics.uci.edu/ml/machine-learning-databases/auto-mpg/auto-mpg.data', \n",
        "                names=column_names,\n",
        "                        na_values = \"?\", comment='\\t',\n",
        "                        sep=\" \", skipinitialspace=True)\n",
        "    data = data.dropna()\n",
        "\n",
        "    y = data.pop('MPG').values\n",
        "    X = data.values\n",
        "    return X, y"
      ],
      "execution_count": 0,
      "outputs": []
    },
    {
      "cell_type": "code",
      "metadata": {
        "colab_type": "code",
        "id": "DBoYX0t5AbCa",
        "colab": {}
      },
      "source": [
        "import numpy as np\n",
        "from math import sqrt\n",
        "from pprint import pprint\n",
        "from sklearn import datasets\n",
        "from sklearn.neighbors import KNeighborsRegressor\n",
        "from sklearn.model_selection import cross_validate\n",
        "from sklearn.model_selection import cross_val_predict\n",
        "\n",
        "from sklearn.model_selection import KFold\n",
        "from sklearn.metrics import make_scorer\n",
        "from sklearn.metrics import mean_squared_error\n",
        "from sklearn.metrics import mean_absolute_error\n",
        "from sklearn.linear_model import LinearRegression\n",
        "from sklearn.model_selection import train_test_split\n",
        "import pandas as pd\n",
        "\n",
        "# Carga de datos.\n",
        "data = {}\n",
        "data['boston'] = datasets.load_boston(return_X_y=True)\n",
        "data['diabetes'] = datasets.load_diabetes(return_X_y=True)\n",
        "data['cars'] = load_cars()\n",
        "\n",
        "# Algoritmo de aprendizaje.\n",
        "ols = LinearRegression()\n",
        "k = 10\n",
        "knn = KNeighborsRegressor(n_neighbors = k)\n",
        "modelos = {}\n",
        "modelos['ols'] = ols\n",
        "modelos['knn'] = knn\n",
        "\n",
        "# Métricas de evaluación.\n",
        "metricas = {\n",
        "  'MAE':  mean_absolute_error,\n",
        "  'RMSE': lambda y, y_pred:\n",
        "          sqrt(mean_squared_error(y, y_pred)),\n",
        "  'MAPE': lambda y, y_pred:\n",
        "          np.mean(np.abs((y - y_pred) / y)) * 100\n",
        "}\n"
      ],
      "execution_count": 0,
      "outputs": []
    },
    {
      "cell_type": "code",
      "metadata": {
        "id": "DSisKDOH9iTZ",
        "colab_type": "code",
        "colab": {
          "base_uri": "https://localhost:8080/",
          "height": 257
        },
        "outputId": "bf04981e-3550-4269-821c-84cd980a4011"
      },
      "source": [
        "# Vector de resultados\n",
        "resultados = pd.DataFrame([], columns=['MAE', 'MAPE', 'RMSE'])\n",
        "\n",
        "for i in modelos.keys():\n",
        "    model = modelos[i]\n",
        "    for dataset in data.keys():\n",
        "        X, y = data[dataset]\n",
        "        # Validación y evaluación del modelo.\n",
        "        y_pred = cross_val_predict(model, X, y, cv = KFold(n_splits=10, random_state=1))\n",
        "        #print('MAE',metricas['MAE'](y, y_pred), 'MAPE',metricas['MAPE'](y, y_pred), 'RMSE',metricas['RMSE'](y, y_pred))\n",
        "        resultados = resultados.append(pd.DataFrame({'MAE':[metricas['MAE'](y, y_pred)], 'MAPE':[metricas['MAPE'](y, y_pred)], 'RMSE':[metricas['RMSE'](y, y_pred)]}, index = [i+\"+\"+dataset]))\n"
      ],
      "execution_count": 90,
      "outputs": [
        {
          "output_type": "stream",
          "text": [
            "/usr/local/lib/python3.6/dist-packages/sklearn/model_selection/_split.py:296: FutureWarning: Setting a random_state has no effect since shuffle is False. This will raise an error in 0.24. You should leave random_state to its default (None), or set shuffle=True.\n",
            "  FutureWarning\n",
            "/usr/local/lib/python3.6/dist-packages/sklearn/model_selection/_split.py:296: FutureWarning: Setting a random_state has no effect since shuffle is False. This will raise an error in 0.24. You should leave random_state to its default (None), or set shuffle=True.\n",
            "  FutureWarning\n",
            "/usr/local/lib/python3.6/dist-packages/sklearn/model_selection/_split.py:296: FutureWarning: Setting a random_state has no effect since shuffle is False. This will raise an error in 0.24. You should leave random_state to its default (None), or set shuffle=True.\n",
            "  FutureWarning\n",
            "/usr/local/lib/python3.6/dist-packages/sklearn/model_selection/_split.py:296: FutureWarning: Setting a random_state has no effect since shuffle is False. This will raise an error in 0.24. You should leave random_state to its default (None), or set shuffle=True.\n",
            "  FutureWarning\n",
            "/usr/local/lib/python3.6/dist-packages/sklearn/model_selection/_split.py:296: FutureWarning: Setting a random_state has no effect since shuffle is False. This will raise an error in 0.24. You should leave random_state to its default (None), or set shuffle=True.\n",
            "  FutureWarning\n",
            "/usr/local/lib/python3.6/dist-packages/sklearn/model_selection/_split.py:296: FutureWarning: Setting a random_state has no effect since shuffle is False. This will raise an error in 0.24. You should leave random_state to its default (None), or set shuffle=True.\n",
            "  FutureWarning\n"
          ],
          "name": "stderr"
        }
      ]
    },
    {
      "cell_type": "code",
      "metadata": {
        "id": "3JZHfvB9Br8Z",
        "colab_type": "code",
        "colab": {
          "base_uri": "https://localhost:8080/",
          "height": 238
        },
        "outputId": "276099d0-c5df-4bba-cf28-4ec8e8d1b871"
      },
      "source": [
        "resultados"
      ],
      "execution_count": 91,
      "outputs": [
        {
          "output_type": "execute_result",
          "data": {
            "text/html": [
              "<div>\n",
              "<style scoped>\n",
              "    .dataframe tbody tr th:only-of-type {\n",
              "        vertical-align: middle;\n",
              "    }\n",
              "\n",
              "    .dataframe tbody tr th {\n",
              "        vertical-align: top;\n",
              "    }\n",
              "\n",
              "    .dataframe thead th {\n",
              "        text-align: right;\n",
              "    }\n",
              "</style>\n",
              "<table border=\"1\" class=\"dataframe\">\n",
              "  <thead>\n",
              "    <tr style=\"text-align: right;\">\n",
              "      <th></th>\n",
              "      <th>MAE</th>\n",
              "      <th>MAPE</th>\n",
              "      <th>RMSE</th>\n",
              "    </tr>\n",
              "  </thead>\n",
              "  <tbody>\n",
              "    <tr>\n",
              "      <th>ols+boston</th>\n",
              "      <td>3.997306</td>\n",
              "      <td>21.201154</td>\n",
              "      <td>5.877045</td>\n",
              "    </tr>\n",
              "    <tr>\n",
              "      <th>ols+diabetes</th>\n",
              "      <td>44.214396</td>\n",
              "      <td>39.465002</td>\n",
              "      <td>54.763421</td>\n",
              "    </tr>\n",
              "    <tr>\n",
              "      <th>ols+cars</th>\n",
              "      <td>2.719005</td>\n",
              "      <td>12.776536</td>\n",
              "      <td>3.555344</td>\n",
              "    </tr>\n",
              "    <tr>\n",
              "      <th>knn+boston</th>\n",
              "      <td>6.841265</td>\n",
              "      <td>33.622746</td>\n",
              "      <td>9.528536</td>\n",
              "    </tr>\n",
              "    <tr>\n",
              "      <th>knn+diabetes</th>\n",
              "      <td>46.331674</td>\n",
              "      <td>40.614624</td>\n",
              "      <td>58.470362</td>\n",
              "    </tr>\n",
              "    <tr>\n",
              "      <th>knn+cars</th>\n",
              "      <td>3.251607</td>\n",
              "      <td>13.863232</td>\n",
              "      <td>4.376816</td>\n",
              "    </tr>\n",
              "  </tbody>\n",
              "</table>\n",
              "</div>"
            ],
            "text/plain": [
              "                    MAE       MAPE       RMSE\n",
              "ols+boston     3.997306  21.201154   5.877045\n",
              "ols+diabetes  44.214396  39.465002  54.763421\n",
              "ols+cars       2.719005  12.776536   3.555344\n",
              "knn+boston     6.841265  33.622746   9.528536\n",
              "knn+diabetes  46.331674  40.614624  58.470362\n",
              "knn+cars       3.251607  13.863232   4.376816"
            ]
          },
          "metadata": {
            "tags": []
          },
          "execution_count": 91
        }
      ]
    },
    {
      "cell_type": "code",
      "metadata": {
        "id": "ZLxzbaP5HJ67",
        "colab_type": "code",
        "colab": {
          "base_uri": "https://localhost:8080/",
          "height": 343
        },
        "outputId": "226f6927-12eb-4dd4-9603-5f342ee7dcde"
      },
      "source": [
        "resultados.plot.bar()"
      ],
      "execution_count": 92,
      "outputs": [
        {
          "output_type": "execute_result",
          "data": {
            "text/plain": [
              "<matplotlib.axes._subplots.AxesSubplot at 0x7fa5bf610a90>"
            ]
          },
          "metadata": {
            "tags": []
          },
          "execution_count": 92
        },
        {
          "output_type": "display_data",
          "data": {
            "image/png": "[encoded data removed]",
            "text/plain": [
              "<Figure size 432x288 with 1 Axes>"
            ]
          },
          "metadata": {
            "tags": []
          }
        }
      ]
    },
    {
      "cell_type": "markdown",
      "metadata": {
        "id": "YO2WjsR0sWo7",
        "colab_type": "text"
      },
      "source": [
        "### Ejercicio 4 (3 puntos)"
      ]
    },
    {
      "cell_type": "markdown",
      "metadata": {
        "id": "7QmAR4eHsWo8",
        "colab_type": "text"
      },
      "source": [
        "Analice las diferencias entre los errores producidos por el algoritmo KNN en función de estos aspectos: a) número de vecinos más cercanos; b) función de distancia; c) con/sin normalización previa de atributos. Para ello, pruebe al menos dos configuraciones distintas de cada aspecto. Use tres datasets diferentes en validación leave-one-out en la comparativa de resultados."
      ]
    },
    {
      "cell_type": "code",
      "metadata": {
        "id": "TS-d8SRzsWo9",
        "colab_type": "code",
        "colab": {}
      },
      "source": [
        ""
      ],
      "execution_count": 0,
      "outputs": []
    },
    {
      "cell_type": "markdown",
      "metadata": {
        "id": "urRwuY6isWo_",
        "colab_type": "text"
      },
      "source": [
        "### Ejercicio 5 (2 puntos)"
      ]
    },
    {
      "cell_type": "markdown",
      "metadata": {
        "id": "pJj6caq6sWpA",
        "colab_type": "text"
      },
      "source": [
        "Estudie la métrica para clasificación denominada AUC de scikit-learn y cree un programa, con comentarios que aclaren el código, donde se compute diche métrica (junto con exactitud, precisión, recall y F1) usando los clasificadores LOGR y CART en validación cruzada leave-one-out. Muestre los resultados de forma comparativa para al menos tres datasets (los que se deseen)."
      ]
    },
    {
      "cell_type": "code",
      "metadata": {
        "id": "Slz7vY-bsWpB",
        "colab_type": "code",
        "colab": {}
      },
      "source": [
        ""
      ],
      "execution_count": 0,
      "outputs": []
    }
  ]
}